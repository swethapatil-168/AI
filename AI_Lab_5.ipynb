{
  "nbformat": 4,
  "nbformat_minor": 0,
  "metadata": {
    "colab": {
      "name": "AI Lab-5.ipynb",
      "provenance": [],
      "collapsed_sections": [],
      "authorship_tag": "ABX9TyP9WlO9u8L+hBmx81ppifd8",
      "include_colab_link": true
    },
    "kernelspec": {
      "name": "python3",
      "display_name": "Python 3"
    },
    "language_info": {
      "name": "python"
    }
  },
  "cells": [
    {
      "cell_type": "markdown",
      "metadata": {
        "id": "view-in-github",
        "colab_type": "text"
      },
      "source": [
        "<a href=\"https://colab.research.google.com/github/swethapatil-168/AI/blob/main/AI_Lab_5.ipynb\" target=\"_parent\"><img src=\"https://colab.research.google.com/assets/colab-badge.svg\" alt=\"Open In Colab\"/></a>"
      ]
    },
    {
      "cell_type": "code",
      "metadata": {
        "colab": {
          "base_uri": "https://localhost:8080/"
        },
        "id": "97vlHE3jpJCU",
        "outputId": "96caf363-17c5-4002-da24-3138686e0d55"
      },
      "source": [
        "def clean(floor):\n",
        "    i=0\n",
        "    j=0\n",
        "    x=0\n",
        "    row=len(floor)\n",
        "    column=len(floor[0])\n",
        "    while(row != 0):\n",
        "        if floor[i][j] == 1:\n",
        "            floor[i][j]=0\n",
        "            x=x+1\n",
        "            print_floor(floor,i,j,x)\n",
        "            j=j+1\n",
        "        else:\n",
        "            j=j+1\n",
        "        if j==column:\n",
        "            j=0\n",
        "            i=i+1\n",
        "            row=row-1\n",
        "def print_floor(floor, row, col,count):# row, col represent the current vacuum cleaner position\n",
        "    print('step:',count)\n",
        "    for x in floor:\n",
        "        print(x)\n",
        "    print('vaccum cleaner :',row,col)\n",
        "# Test 1\n",
        "floor = [[1, 0, 0, 0],\n",
        "         [0, 1, 0, 1],\n",
        "         [1, 0, 1, 1]]\n",
        "\n",
        "clean(floor)"
      ],
      "execution_count": null,
      "outputs": [
        {
          "output_type": "stream",
          "name": "stdout",
          "text": [
            "step: 1\n",
            "[0, 0, 0, 0]\n",
            "[0, 1, 0, 1]\n",
            "[1, 0, 1, 1]\n",
            "vaccum cleaner : 0 0\n",
            "step: 2\n",
            "[0, 0, 0, 0]\n",
            "[0, 0, 0, 1]\n",
            "[1, 0, 1, 1]\n",
            "vaccum cleaner : 1 1\n",
            "step: 3\n",
            "[0, 0, 0, 0]\n",
            "[0, 0, 0, 0]\n",
            "[1, 0, 1, 1]\n",
            "vaccum cleaner : 1 3\n",
            "step: 4\n",
            "[0, 0, 0, 0]\n",
            "[0, 0, 0, 0]\n",
            "[0, 0, 1, 1]\n",
            "vaccum cleaner : 2 0\n",
            "step: 5\n",
            "[0, 0, 0, 0]\n",
            "[0, 0, 0, 0]\n",
            "[0, 0, 0, 1]\n",
            "vaccum cleaner : 2 2\n",
            "step: 6\n",
            "[0, 0, 0, 0]\n",
            "[0, 0, 0, 0]\n",
            "[0, 0, 0, 0]\n",
            "vaccum cleaner : 2 3\n"
          ]
        }
      ]
    },
    {
      "cell_type": "code",
      "metadata": {
        "colab": {
          "base_uri": "https://localhost:8080/"
        },
        "id": "rBxnd5Rv33cN",
        "outputId": "43d1585f-7316-4783-cdac-f86601da4bae"
      },
      "source": [
        "# Test 2\n",
        "floor = [[1, 1, 0, 0, 1, 0, 0],\n",
        "         [0, 0, 0, 1, 0, 0, 0],\n",
        "         [0, 1, 1, 1, 1, 1, 1],\n",
        "         [0, 1, 0, 1, 0, 1, 0]]\n",
        "\n",
        "clean(floor)"
      ],
      "execution_count": null,
      "outputs": [
        {
          "output_type": "stream",
          "name": "stdout",
          "text": [
            "step: 1\n",
            "[0, 1, 0, 0, 1, 0, 0]\n",
            "[0, 0, 0, 1, 0, 0, 0]\n",
            "[0, 1, 1, 1, 1, 1, 1]\n",
            "[0, 1, 0, 1, 0, 1, 0]\n",
            "vaccum cleaner : 0 0\n",
            "step: 2\n",
            "[0, 0, 0, 0, 1, 0, 0]\n",
            "[0, 0, 0, 1, 0, 0, 0]\n",
            "[0, 1, 1, 1, 1, 1, 1]\n",
            "[0, 1, 0, 1, 0, 1, 0]\n",
            "vaccum cleaner : 0 1\n",
            "step: 3\n",
            "[0, 0, 0, 0, 0, 0, 0]\n",
            "[0, 0, 0, 1, 0, 0, 0]\n",
            "[0, 1, 1, 1, 1, 1, 1]\n",
            "[0, 1, 0, 1, 0, 1, 0]\n",
            "vaccum cleaner : 0 4\n",
            "step: 4\n",
            "[0, 0, 0, 0, 0, 0, 0]\n",
            "[0, 0, 0, 0, 0, 0, 0]\n",
            "[0, 1, 1, 1, 1, 1, 1]\n",
            "[0, 1, 0, 1, 0, 1, 0]\n",
            "vaccum cleaner : 1 3\n",
            "step: 5\n",
            "[0, 0, 0, 0, 0, 0, 0]\n",
            "[0, 0, 0, 0, 0, 0, 0]\n",
            "[0, 0, 1, 1, 1, 1, 1]\n",
            "[0, 1, 0, 1, 0, 1, 0]\n",
            "vaccum cleaner : 2 1\n",
            "step: 6\n",
            "[0, 0, 0, 0, 0, 0, 0]\n",
            "[0, 0, 0, 0, 0, 0, 0]\n",
            "[0, 0, 0, 1, 1, 1, 1]\n",
            "[0, 1, 0, 1, 0, 1, 0]\n",
            "vaccum cleaner : 2 2\n",
            "step: 7\n",
            "[0, 0, 0, 0, 0, 0, 0]\n",
            "[0, 0, 0, 0, 0, 0, 0]\n",
            "[0, 0, 0, 0, 1, 1, 1]\n",
            "[0, 1, 0, 1, 0, 1, 0]\n",
            "vaccum cleaner : 2 3\n",
            "step: 8\n",
            "[0, 0, 0, 0, 0, 0, 0]\n",
            "[0, 0, 0, 0, 0, 0, 0]\n",
            "[0, 0, 0, 0, 0, 1, 1]\n",
            "[0, 1, 0, 1, 0, 1, 0]\n",
            "vaccum cleaner : 2 4\n",
            "step: 9\n",
            "[0, 0, 0, 0, 0, 0, 0]\n",
            "[0, 0, 0, 0, 0, 0, 0]\n",
            "[0, 0, 0, 0, 0, 0, 1]\n",
            "[0, 1, 0, 1, 0, 1, 0]\n",
            "vaccum cleaner : 2 5\n",
            "step: 10\n",
            "[0, 0, 0, 0, 0, 0, 0]\n",
            "[0, 0, 0, 0, 0, 0, 0]\n",
            "[0, 0, 0, 0, 0, 0, 0]\n",
            "[0, 1, 0, 1, 0, 1, 0]\n",
            "vaccum cleaner : 2 6\n",
            "step: 11\n",
            "[0, 0, 0, 0, 0, 0, 0]\n",
            "[0, 0, 0, 0, 0, 0, 0]\n",
            "[0, 0, 0, 0, 0, 0, 0]\n",
            "[0, 0, 0, 1, 0, 1, 0]\n",
            "vaccum cleaner : 3 1\n",
            "step: 12\n",
            "[0, 0, 0, 0, 0, 0, 0]\n",
            "[0, 0, 0, 0, 0, 0, 0]\n",
            "[0, 0, 0, 0, 0, 0, 0]\n",
            "[0, 0, 0, 0, 0, 1, 0]\n",
            "vaccum cleaner : 3 3\n",
            "step: 13\n",
            "[0, 0, 0, 0, 0, 0, 0]\n",
            "[0, 0, 0, 0, 0, 0, 0]\n",
            "[0, 0, 0, 0, 0, 0, 0]\n",
            "[0, 0, 0, 0, 0, 0, 0]\n",
            "vaccum cleaner : 3 5\n"
          ]
        }
      ]
    }
  ]
}